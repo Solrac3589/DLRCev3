{
 "cells": [
  {
   "cell_type": "code",
   "execution_count": null,
   "metadata": {},
   "outputs": [],
   "source": [
    "# Load the model:\n",
    "from unsupervised_models.convolutional_variational_autoencoder import ConvolutionalVariationalAutoencoder\n",
    "\n",
    "IM_SIZE = 64\n",
    "vae = ConvolutionalVariationalAutoencoder(image_dims=(IM_SIZE, IM_SIZE, 3))\n",
    "vae.load_weights(\"/home/dlrc/Desktop/vae_models/weights.299.hdf5\")"
   ]
  },
  {
   "cell_type": "code",
   "execution_count": null,
   "metadata": {},
   "outputs": [],
   "source": [
    "import numpy as np\n",
    "from scipy import misc\n",
    "\n",
    "def read_array(path):\n",
    "    return np.array(misc.imread(path, mode=\"RGB\"))\n",
    "\n",
    "def normalize_img(img_array):\n",
    "    # 128 is the mean because there are\n",
    "    mean = 128\n",
    "    return (img_array - mean) / mean\n",
    "\n",
    "def read_normalized(img_path):\n",
    "    return normalize_img(read_array(img_path))"
   ]
  },
  {
   "cell_type": "code",
   "execution_count": null,
   "metadata": {},
   "outputs": [],
   "source": [
    "t = read_normalized(\"/home/dlrc/Desktop/Img/train/bright_blue/block-mini0.png\")"
   ]
  },
  {
   "cell_type": "code",
   "execution_count": null,
   "metadata": {
    "collapsed": true
   },
   "outputs": [],
   "source": []
  },
  {
   "cell_type": "code",
   "execution_count": null,
   "metadata": {
    "collapsed": true
   },
   "outputs": [],
   "source": [
    "import matplotlib.pyplot as plt"
   ]
  },
  {
   "cell_type": "code",
   "execution_count": null,
   "metadata": {
    "collapsed": true
   },
   "outputs": [],
   "source": [
    "# pipeline:\n",
    "# - generate file lists with colors\n",
    "# - file lists -> image numpy arrays -> one big batch\n",
    "# - image numpy arrays -> model predictions\n",
    "# - colors -> matplotlib colors\n",
    "# plt.scatter expects 3 arrays x, y, colors"
   ]
  }
 ],
 "metadata": {
  "kernelspec": {
   "display_name": "Python 3",
   "language": "python",
   "name": "python3"
  },
  "language_info": {
   "codemirror_mode": {
    "name": "ipython",
    "version": 3
   },
   "file_extension": ".py",
   "mimetype": "text/x-python",
   "name": "python",
   "nbconvert_exporter": "python",
   "pygments_lexer": "ipython3",
   "version": "3.6.2"
  }
 },
 "nbformat": 4,
 "nbformat_minor": 2
}
