{
 "cells": [
  {
   "cell_type": "code",
   "execution_count": 21,
   "metadata": {},
   "outputs": [],
   "source": [
    "import keras\n",
    "from keras.layers import Dense, Dropout, Activation, Flatten, Input\n",
    "from keras.models import Sequential, Model\n",
    "from keras.layers import Convolution2D, MaxPooling2D\n",
    "from keras.utils import np_utils\n",
    "from keras.losses import binary_crossentropy\n",
    "from matplotlib import pyplot as plt\n"
   ]
  },
  {
   "cell_type": "code",
   "execution_count": null,
   "metadata": {
    "collapsed": true
   },
   "outputs": [],
   "source": [
    "import os\n",
    "\n",
    "IMAGE_PATH = \"/home/dlrc/datasets/background_dataset_v1/images\"\n",
    "\n",
    "def read_images(path_to_images, size=None):\n",
    "    \"\"\"\n",
    "    Return numpy array of images from directories\n",
    "    :param path_to_images:\n",
    "    :return:\n",
    "    \"\"\"\n",
    "    image_file_paths = map(lambda x: os.path.join(path_to_images, x), os.listdir(path_to_images))\n",
    "    image_file_paths = filter(lambda x: \"jpeg\" in x or \"jpg\" in x or \"png\" in x, image_file_paths)\n",
    "    images = []\n",
    "    for image_path in tqdm(image_file_paths):\n",
    "        image = misc.imread(image_path, mode='L')\n",
    "        images.append(image)\n",
    "\n",
    "    if size:\n",
    "        for i, img in enumerate(images):\n",
    "            print(img.shape[-1])\n",
    "            images[i] = misc.imresize(img, size, mode='L').reshape(size[0], size[1],1)\n",
    "    return np.asarray(images)\n"
   ]
  },
  {
   "cell_type": "code",
   "execution_count": 22,
   "metadata": {},
   "outputs": [],
   "source": [
    "\n",
    "x = Input((32,32,3))\n",
    "conv1 = Convolution2D(32,kernel_size=3,strides=1)(x)\n",
    "pool1 = MaxPooling2D(3,strides=2)(conv1)\n",
    "flat1 = Flatten()(pool1)\n",
    "dropout1 = Dropout(0.5)(flat1)\n",
    "dense1 = Dense(1024, activation='softmax')(dropout1)\n",
    "\n",
    "model = Model(inputs=x, outputs=dense1)\n",
    "model.compile(loss='binary_crossentropy',\n",
    "              optimizer='adam',\n",
    "              metrics=['accuracy'])          \n",
    "\n"
   ]
  },
  {
   "cell_type": "code",
   "execution_count": 23,
   "metadata": {},
   "outputs": [
    {
     "name": "stdout",
     "output_type": "stream",
     "text": [
      "Downloading data from https://github.com/fchollet/deep-learning-models/releases/download/v0.6/mobilenet_1_0_224_tf.h5\n",
      "17154048/17225924 [============================>.] - ETA: 0s"
     ]
    },
    {
     "data": {
      "text/plain": [
       "<keras.engine.training.Model at 0x7f67434cf7b8>"
      ]
     },
     "execution_count": 23,
     "metadata": {},
     "output_type": "execute_result"
    }
   ],
   "source": [
    "keras.applications.mobilenet.MobileNet(input_shape=None, alpha=1.0, depth_multiplier=1, dropout=1e-3, include_top=True, weights='imagenet', input_tensor=None, pooling=None, classes=1000)"
   ]
  }
 ],
 "metadata": {
  "kernelspec": {
   "display_name": "Python 3",
   "language": "python",
   "name": "python3"
  },
  "language_info": {
   "codemirror_mode": {
    "name": "ipython",
    "version": 3
   },
   "file_extension": ".py",
   "mimetype": "text/x-python",
   "name": "python",
   "nbconvert_exporter": "python",
   "pygments_lexer": "ipython3",
   "version": "3.6.2"
  }
 },
 "nbformat": 4,
 "nbformat_minor": 2
}
